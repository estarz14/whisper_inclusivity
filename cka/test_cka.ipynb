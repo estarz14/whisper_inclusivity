{
 "cells": [
  {
   "cell_type": "markdown",
   "id": "3b2969a3",
   "metadata": {},
   "source": [
    "Code in this folder is taken from https://github.com/yuanli2333/CKA-Centered-Kernel-Alignment/tree/master"
   ]
  },
  {
   "cell_type": "code",
   "execution_count": 1,
   "id": "533e0802",
   "metadata": {},
   "outputs": [],
   "source": [
    "import numpy as np\n",
    "import pickle\n",
    "import gzip\n",
    "import cca_core\n",
    "from CKA import linear_CKA, kernel_CKA"
   ]
  },
  {
   "cell_type": "code",
   "execution_count": 2,
   "id": "59feec37",
   "metadata": {},
   "outputs": [
    {
     "name": "stdout",
     "output_type": "stream",
     "text": [
      "Linear CKA, between X and Y: 0.38472863429472776\n",
      "Linear CKA, between X and X: 1.0000000000000002\n",
      "RBF Kernel CKA, between X and Y: 0.5147806348309366\n",
      "RBF Kernel CKA, between X and X: 1.0\n"
     ]
    }
   ],
   "source": [
    "X = np.random.randn(100, 64)\n",
    "Y = np.random.randn(100, 64)\n",
    "\n",
    "print('Linear CKA, between X and Y: {}'.format(linear_CKA(X, Y)))\n",
    "print('Linear CKA, between X and X: {}'.format(linear_CKA(X, X)))\n",
    "\n",
    "print('RBF Kernel CKA, between X and Y: {}'.format(kernel_CKA(X, Y)))\n",
    "print('RBF Kernel CKA, between X and X: {}'.format(kernel_CKA(X, X)))"
   ]
  }
 ],
 "metadata": {
  "kernelspec": {
   "display_name": "mykernel",
   "language": "python",
   "name": "mykernel"
  },
  "language_info": {
   "codemirror_mode": {
    "name": "ipython",
    "version": 3
   },
   "file_extension": ".py",
   "mimetype": "text/x-python",
   "name": "python",
   "nbconvert_exporter": "python",
   "pygments_lexer": "ipython3",
   "version": "3.8.10"
  }
 },
 "nbformat": 4,
 "nbformat_minor": 5
}
