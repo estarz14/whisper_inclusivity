{
 "cells": [
  {
   "cell_type": "code",
   "execution_count": 1,
   "id": "f395c16b",
   "metadata": {},
   "outputs": [],
   "source": [
    "import os\n",
    "import sys\n",
    "sys.path.insert(0,os.path.join('/project/venv/lib/python3.8/site-packages/'))\n",
    "sys.path.insert(0,os.path.join('/venv/lib/python3.8/site-packages'))\n",
    "\n",
    "def ignore_user_installs(username):\n",
    "    ## avoid using user installs\n",
    "    user_install_path = '/scratch/' + username + '/python/lib/python3.8/site-packages'\n",
    "    if user_install_path in sys.path:\n",
    "        sys.path.remove(user_install_path)\n",
    "\n",
    "ignore_user_installs(\"starzew\")\n",
    "\n",
    "os.environ[\"CUDA_VISIBLE_DEVICES\"] = \"0\"\n",
    "os.environ['HTTP_PROXY'] = 'http://fp.cs.ovgu.de:3210/'\n",
    "os.environ['HTTPS_PROXY'] = 'http://fp.cs.ovgu.de:3210/'"
   ]
  },
  {
   "cell_type": "code",
   "execution_count": null,
   "id": "6c3ba313",
   "metadata": {},
   "outputs": [
    {
     "name": "stderr",
     "output_type": "stream",
     "text": [
      "/usr/local/jupyter/lib/python3.8/site-packages/requests/__init__.py:102: RequestsDependencyWarning: urllib3 (1.26.6) or chardet (5.2.0)/charset_normalizer (2.0.4) doesn't match a supported version!\n",
      "  warnings.warn(\"urllib3 ({}) or chardet ({})/charset_normalizer ({}) doesn't match a supported \"\n",
      "2025-03-05 14:31:16.928322: I tensorflow/core/util/port.cc:110] oneDNN custom operations are on. You may see slightly different numerical results due to floating-point round-off errors from different computation orders. To turn them off, set the environment variable `TF_ENABLE_ONEDNN_OPTS=0`.\n",
      "2025-03-05 14:31:17.644687: I tensorflow/core/platform/cpu_feature_guard.cc:182] This TensorFlow binary is optimized to use available CPU instructions in performance-critical operations.\n",
      "To enable the following instructions: AVX2 AVX512F AVX512_VNNI FMA, in other operations, rebuild TensorFlow with the appropriate compiler flags.\n"
     ]
    },
    {
     "name": "stdout",
     "output_type": "stream",
     "text": [
      "Using GPU: NVIDIA GeForce RTX 2080 Ti\n"
     ]
    }
   ],
   "source": [
    "import torch\n",
    "import numpy as np\n",
    "from matplotlib import pyplot as plt\n",
    "from transformers import WhisperProcessor, WhisperForConditionalGeneration, AutoFeatureExtractor\n",
    "import pandas as pd\n",
    "import dill\n",
    "import sklearn\n",
    "\n",
    "from precompute_predictions import att_representation\n",
    "from compare_representations import cka_layerwise"
   ]
  },
  {
   "cell_type": "markdown",
   "id": "4e784ff6",
   "metadata": {},
   "source": [
    "# Whisper"
   ]
  },
  {
   "cell_type": "code",
   "execution_count": null,
   "id": "62d2212f",
   "metadata": {},
   "outputs": [],
   "source": [
    "# Load model & Feature Extractor\n",
    "model = WhisperForConditionalGeneration.from_pretrained(\"openai/whisper-base\",attn_implementation=\"eager\")\n",
    "model_ft = WhisperForConditionalGeneration.from_pretrained(\"/project/thesis/model/whisper-base-ft/checkpoint-21\",attn_implementation=\"eager\")\n",
    "\n",
    "processor = WhisperProcessor.from_pretrained(\"openai/whisper-base\")\n",
    "feature_extractor = AutoFeatureExtractor.from_pretrained(\"openai/whisper-base\")\n",
    "decoder_input_ids = torch.tensor([[1, 1]]) * model.config.decoder_start_token_id"
   ]
  },
  {
   "cell_type": "code",
   "execution_count": 4,
   "id": "2856676d",
   "metadata": {},
   "outputs": [],
   "source": [
    "for m in [model, model_ft]:\n",
    "    m.generation_config.language = \"english\"\n",
    "    m.generation_config.task = \"transcribe\"\n",
    "    m.generation_config.is_multilingual = False\n",
    "    m.generation_config.forced_decoder_ids = None"
   ]
  },
  {
   "cell_type": "markdown",
   "id": "ba8810fc",
   "metadata": {},
   "source": [
    "# Dataset"
   ]
  },
  {
   "cell_type": "code",
   "execution_count": 5,
   "id": "b9c5ae51",
   "metadata": {},
   "outputs": [],
   "source": [
    "def load_pkl(file_name):\n",
    "    with open(file_name, 'rb') as inp:\n",
    "        data = dill.load(inp)\n",
    "        \n",
    "    return data"
   ]
  },
  {
   "cell_type": "code",
   "execution_count": 6,
   "id": "f86fbcb6",
   "metadata": {},
   "outputs": [],
   "source": [
    "ds_final = load_pkl(\"datasets/final.pkl\")"
   ]
  },
  {
   "cell_type": "markdown",
   "id": "dc0fe21c",
   "metadata": {},
   "source": [
    "# Attention Representation"
   ]
  },
  {
   "cell_type": "code",
   "execution_count": null,
   "id": "1c8f431e",
   "metadata": {},
   "outputs": [],
   "source": [
    "def permute_atts(atts):\n",
    "    rng = np.random.default_rng()\n",
    "    new_atts  = []\n",
    "    \n",
    "    for att in atts:\n",
    "        new_att = np.array(att)\n",
    "        #print(new_att.shape)\n",
    "        new_att = rng.permutation(att, axis=-1)\n",
    "        #print(new_att.shape)\n",
    "        #new_att = rng.permutation(att, axis=-2)\n",
    "        #print(new_att.shape)\n",
    "        new_atts.append(new_att)\n",
    "    \n",
    "    return new_atts\n",
    "\n",
    "def attentions_pt_ft(m_pt, m_ft, severity, n_samples):\n",
    "    # create random subset of samples\n",
    "    n_samples = n_samples\n",
    "    indices = np.random.randint(len(ds_final[severity]),size=n_samples)\n",
    "    subset = [ds_final[severity][i] for i in indices]\n",
    "\n",
    "    # extract features\n",
    "    inputs = feature_extractor(subset, do_normalize=True,sampling_rate=16000,return_tensors=\"pt\")\n",
    "    inputs = inputs.input_features\n",
    "\n",
    "    # predict inputs -> attentions\n",
    "    with torch.no_grad():\n",
    "        preds_pt = model(inputs, decoder_input_ids=decoder_input_ids, output_attentions=True)\n",
    "        preds_ft = model_ft(inputs, decoder_input_ids=decoder_input_ids, output_attentions=True)\n",
    "    attentions_pt = preds_pt.encoder_attentions\n",
    "    attentions_ft = preds_ft.encoder_attentions\n",
    "    \n",
    "    return attentions_pt, attentions_ft\n",
    "\n",
    "def compare_variants(dims, atts_pt, atts_ft, n_samples):\n",
    "    variants = [\"basic\", \"resize\", \"avgpool\"]\n",
    "    #variants = []\n",
    "    cka_list = []\n",
    "    cosines_list = []\n",
    "    cosines_diag_list = []\n",
    "    \n",
    "    \n",
    "    \n",
    "    for dim in dims: \n",
    "        print(dim)\n",
    "        cka = dict()\n",
    "        cosines = dict()\n",
    "        cosines_diag = dict()        \n",
    "        \n",
    "        for variant in variants:\n",
    "            print(variant)\n",
    "            a_pt = att_representation(atts_pt, variant, dim)\n",
    "            a_ft = att_representation(atts_ft, variant, dim)\n",
    "            cka[variant] = np.array(cka_layerwise(a_pt, a_ft))\n",
    "            #cosines[variant] = cosine_similarity(torch.from_numpy(cka[\"basic\"].reshape(1,6*6)), torch.from_numpy(cka[variant].reshape(1,6*6)))\n",
    "            cosines[variant] = sklearn.metrics.pairwise.cosine_similarity(cka[\"basic\"].reshape(1,-1),cka[variant].reshape(1,-1))\n",
    "            #print(cosines[variant].shape)\n",
    "            #print(np.diagonal(cka[\"basic\"]).shape)\n",
    "            ##cosines_diag[variant] = sklearn.metrics.pairwise.cosine_similarity(np.diagonal(cka[\"basic\"]).reshape(1,-1), np.diagonal(cka[variant]).reshape(1,-1))\n",
    "            #cosines_diag[variant] = cosine_similarity(torch.from_numpy(np.diagonal(cka[\"basic\"])), torch.from_numpy(np.diagonal(cka[variant])), dim=0)\n",
    "        \n",
    "        print(\"baseline\")\n",
    "        ## create baseline\n",
    "        # permute atts\n",
    "        b_atts_pt = atts_pt\n",
    "        b_atts_ft = permute_atts(atts_ft)\n",
    "        # calc datt representation\n",
    "        b_atts_pt = att_representation(b_atts_pt,\"avgpool\",dim)\n",
    "        b_atts_ft = att_representation(b_atts_ft,\"avgpool\",dim)\n",
    "        \n",
    "        # calc baseline cka\n",
    "        cka[\"baseline\"] = np.array(cka_layerwise(b_atts_pt, b_atts_ft))\n",
    "        cosines[\"baseline\"] = sklearn.metrics.pairwise.cosine_similarity(cka[\"basic\"].reshape(1,-1),cka[\"baseline\"].reshape(1,-1))\n",
    "        \n",
    "        cka_list.append(cka)\n",
    "        cosines_list.append(cosines)\n",
    "        cosines_diag_list.append(cosines_diag)\n",
    "        \n",
    "    return cka_list, cosines_list, cosines_diag_list"
   ]
  },
  {
   "cell_type": "code",
   "execution_count": 8,
   "id": "19ab4118",
   "metadata": {},
   "outputs": [
    {
     "name": "stderr",
     "output_type": "stream",
     "text": [
      "Passing a tuple of `past_key_values` is deprecated and will be removed in Transformers v4.43.0. You should pass an instance of `EncoderDecoderCache` instead, e.g. `past_key_values=EncoderDecoderCache.from_legacy_cache(past_key_values)`.\n"
     ]
    }
   ],
   "source": [
    "n_samples = 500\n",
    "sev = \"all\"\n",
    "# get attentions for samples\n",
    "atts_pt_500, atts_ft_500 = attentions_pt_ft(model, model_ft, sev, n_samples)"
   ]
  },
  {
   "cell_type": "code",
   "execution_count": null,
   "id": "c284e1d8",
   "metadata": {},
   "outputs": [
    {
     "name": "stdout",
     "output_type": "stream",
     "text": [
      "10\n",
      "basic\n",
      "resize\n",
      "avgpool\n",
      "baseline\n",
      "15\n",
      "basic\n",
      "resize\n",
      "avgpool\n",
      "baseline\n",
      "20\n",
      "basic\n",
      "resize\n",
      "avgpool\n",
      "baseline\n",
      "25\n",
      "basic\n",
      "resize\n",
      "avgpool\n",
      "baseline\n",
      "30\n",
      "basic\n",
      "resize\n",
      "avgpool\n",
      "baseline\n",
      "500\n",
      "basic\n",
      "resize\n",
      "avgpool\n",
      "baseline\n",
      "750\n",
      "basic\n",
      "resize\n",
      "avgpool\n",
      "baseline\n"
     ]
    }
   ],
   "source": [
    "dims = [10,15,20,25,30,500,750]\n",
    "cka_list, cosines_list, cosines_diag_list = compare_variants(dims, atts_pt_500, atts_ft_500, n_samples)"
   ]
  },
  {
   "cell_type": "code",
   "execution_count": 73,
   "id": "7e00a80a",
   "metadata": {},
   "outputs": [],
   "source": [
    "df_c = pd.DataFrame(cosines_list)\n",
    "df_c.index = pd.Index(dims)"
   ]
  },
  {
   "cell_type": "code",
   "execution_count": 70,
   "id": "cad579af",
   "metadata": {},
   "outputs": [
    {
     "data": {
      "text/html": [
       "<div>\n",
       "<style scoped>\n",
       "    .dataframe tbody tr th:only-of-type {\n",
       "        vertical-align: middle;\n",
       "    }\n",
       "\n",
       "    .dataframe tbody tr th {\n",
       "        vertical-align: top;\n",
       "    }\n",
       "\n",
       "    .dataframe thead th {\n",
       "        text-align: right;\n",
       "    }\n",
       "</style>\n",
       "<table border=\"1\" class=\"dataframe\">\n",
       "  <thead>\n",
       "    <tr style=\"text-align: right;\">\n",
       "      <th></th>\n",
       "      <th>basic</th>\n",
       "      <th>resize</th>\n",
       "      <th>avgpool</th>\n",
       "      <th>baseline</th>\n",
       "    </tr>\n",
       "  </thead>\n",
       "  <tbody>\n",
       "    <tr>\n",
       "      <th>10</th>\n",
       "      <td>[[1.0]]</td>\n",
       "      <td>[[0.9886116539091706]]</td>\n",
       "      <td>[[0.9888114273437242]]</td>\n",
       "      <td>[[0.9019390751836635]]</td>\n",
       "    </tr>\n",
       "    <tr>\n",
       "      <th>15</th>\n",
       "      <td>[[1.0]]</td>\n",
       "      <td>[[0.9882468805328968]]</td>\n",
       "      <td>[[0.9897888603452714]]</td>\n",
       "      <td>[[0.9520867877478254]]</td>\n",
       "    </tr>\n",
       "  </tbody>\n",
       "</table>\n",
       "</div>"
      ],
      "text/plain": [
       "      basic                  resize                 avgpool  \\\n",
       "10  [[1.0]]  [[0.9886116539091706]]  [[0.9888114273437242]]   \n",
       "15  [[1.0]]  [[0.9882468805328968]]  [[0.9897888603452714]]   \n",
       "\n",
       "                  baseline  \n",
       "10  [[0.9019390751836635]]  \n",
       "15  [[0.9520867877478254]]  "
      ]
     },
     "execution_count": 70,
     "metadata": {},
     "output_type": "execute_result"
    }
   ],
   "source": [
    "df_c"
   ]
  },
  {
   "cell_type": "code",
   "execution_count": null,
   "id": "06b3d3b3",
   "metadata": {},
   "outputs": [
    {
     "data": {
      "image/png": "[encoded data removed]",
      "text/plain": [
       "<Figure size 480x252 with 1 Axes>"
      ]
     },
     "metadata": {
      "needs_background": "light"
     },
     "output_type": "display_data"
    }
   ],
   "source": [
    "fs=13\n",
    "fig = plt.figure()\n",
    "px = 1/plt.rcParams['figure.dpi']  # pixel in inches\n",
    "fig.set_figwidth(480*px)\n",
    "fig.set_figheight(3.5)\n",
    "\n",
    "for i,df in enumerate([df_c[df_c.index <= 100]]):\n",
    "    plt.plot(df)\n",
    "    plt.xlabel(\"Dim\", fontsize=fs)\n",
    "    plt.ylabel(\"Cosine\", fontsize=fs)\n",
    "    plt.xticks(range(10,35,5), fontsize=fs)\n",
    "    plt.yticks(fontsize=fs)\n",
    "    plt.legend(labels=[\"basic\", \"resize\", \"avgpool\", \"baseline\"], fontsize=fs,loc='upper center', bbox_to_anchor=(0.5, 1.25), ncols=4)\n",
    "\n",
    "    \n",
    "plt.tight_layout()\n",
    "plt.savefig(\"/figs/datts_exp.pdf\", bbox_inches='tight')\n",
    "plt.show()"
   ]
  }
 ],
 "metadata": {
  "kernelspec": {
   "display_name": "newkernel",
   "language": "python",
   "name": "newkernel"
  },
  "language_info": {
   "codemirror_mode": {
    "name": "ipython",
    "version": 3
   },
   "file_extension": ".py",
   "mimetype": "text/x-python",
   "name": "python",
   "nbconvert_exporter": "python",
   "pygments_lexer": "ipython3",
   "version": "3.8.10"
  }
 },
 "nbformat": 4,
 "nbformat_minor": 5
}
